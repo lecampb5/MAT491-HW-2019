{
  "nbformat": 4,
  "nbformat_minor": 0,
  "metadata": {
    "colab": {
      "name": "Copy of Copy of spinal-exercises.ipynb",
      "version": "0.3.2",
      "provenance": [],
      "include_colab_link": true
    },
    "kernelspec": {
      "display_name": "Python 3",
      "language": "python",
      "name": "python3"
    }
  },
  "cells": [
    {
      "cell_type": "markdown",
      "metadata": {
        "id": "view-in-github",
        "colab_type": "text"
      },
      "source": [
        "<a href=\"https://colab.research.google.com/github/lecampb5/MAT491-HW-2019/blob/master/Copy_of_Copy_of_spinal_exercises.ipynb\" target=\"_parent\"><img src=\"https://colab.research.google.com/assets/colab-badge.svg\" alt=\"Open In Colab\"/></a>"
      ]
    },
    {
      "metadata": {
        "id": "NWjE_oO60k1Y",
        "colab_type": "text"
      },
      "cell_type": "markdown",
      "source": [
        "# Pandas dataframe exercises using the sprinter reaction time dataset.  \n",
        "## Goal: Get familiar with basic dataframe operations"
      ]
    },
    {
      "metadata": {
        "id": "VJT4HUVo0k1d",
        "colab_type": "text"
      },
      "cell_type": "markdown",
      "source": [
        "The code block below is a preamble that loads the libraries that we need and sets things up the way we like it.  You can copy and paste this preamble and put it in any notebook to have access to the same libraries."
      ]
    },
    {
      "metadata": {
        "id": "OzaII6QX0k1e",
        "colab_type": "code",
        "colab": {}
      },
      "cell_type": "code",
      "source": [
        "# Tells the notebooks to view every graph \"in line\" automatically, rather than requiring a specific `show` command\n",
        "%matplotlib inline \n",
        "# Loads the numpy library (for math stuff)\n",
        "import numpy as np \n",
        "# Load the pandas library (what we use to create, explore, and analyze datasets)\n",
        "import pandas as pd \n",
        "# Loads the matplotlib library (what we use to create graphs)\n",
        "import matplotlib.pyplot as plt \n",
        "# Loads the seaborn library (what we use to create prettier graphs)\n",
        "import seaborn as sns \n",
        "# Sets the default font size for graphs to 150% of its original value (for readability)\n",
        "sns.set(font_scale=1.5) "
      ],
      "execution_count": 0,
      "outputs": []
    },
    {
      "metadata": {
        "id": "T7t-qfri0k1j",
        "colab_type": "text"
      },
      "cell_type": "markdown",
      "source": [
        "#### First we load the original data into a Pandas dataframe called `df`"
      ]
    },
    {
      "metadata": {
        "id": "gFToadKl0k1k",
        "colab_type": "code",
        "outputId": "8102e7f0-373f-40b0-dc5f-0bb2646470f7",
        "colab": {
          "base_uri": "https://localhost:8080/",
          "height": 204
        }
      },
      "cell_type": "code",
      "source": [
        "url = \"https://raw.githubusercontent.com/rgerkin/neuro-data-analysis-course/master/data/spinal/2004-2016-Short-Races2.csv\"\n",
        "df = pd.read_csv(url) # Loads the data from that URL into a dataframe\n",
        "df.head() # Shows the first few rows of that dataframe"
      ],
      "execution_count": 0,
      "outputs": [
        {
          "output_type": "execute_result",
          "data": {
            "text/html": [
              "<div>\n",
              "<style scoped>\n",
              "    .dataframe tbody tr th:only-of-type {\n",
              "        vertical-align: middle;\n",
              "    }\n",
              "\n",
              "    .dataframe tbody tr th {\n",
              "        vertical-align: top;\n",
              "    }\n",
              "\n",
              "    .dataframe thead th {\n",
              "        text-align: right;\n",
              "    }\n",
              "</style>\n",
              "<table border=\"1\" class=\"dataframe\">\n",
              "  <thead>\n",
              "    <tr style=\"text-align: right;\">\n",
              "      <th></th>\n",
              "      <th>Unnamed: 0</th>\n",
              "      <th>POS</th>\n",
              "      <th>BIB</th>\n",
              "      <th>ATHLETE</th>\n",
              "      <th>COUNTRY</th>\n",
              "      <th>MARK</th>\n",
              "      <th>RxnTime</th>\n",
              "      <th>Race</th>\n",
              "      <th>Round</th>\n",
              "      <th>Gender</th>\n",
              "      <th>Year</th>\n",
              "    </tr>\n",
              "  </thead>\n",
              "  <tbody>\n",
              "    <tr>\n",
              "      <th>0</th>\n",
              "      <td>0</td>\n",
              "      <td>1.0</td>\n",
              "      <td>NaN</td>\n",
              "      <td>Usain BOLT</td>\n",
              "      <td>JAMJAM</td>\n",
              "      <td>10.20 Q</td>\n",
              "      <td>0.186</td>\n",
              "      <td>100 m</td>\n",
              "      <td>Heats</td>\n",
              "      <td>M</td>\n",
              "      <td>2008</td>\n",
              "    </tr>\n",
              "    <tr>\n",
              "      <th>1</th>\n",
              "      <td>1</td>\n",
              "      <td>2.0</td>\n",
              "      <td>NaN</td>\n",
              "      <td>Daniel BAILEY</td>\n",
              "      <td>ANTANT</td>\n",
              "      <td>10.24 Q</td>\n",
              "      <td>0.198</td>\n",
              "      <td>100 m</td>\n",
              "      <td>Heats</td>\n",
              "      <td>M</td>\n",
              "      <td>2008</td>\n",
              "    </tr>\n",
              "    <tr>\n",
              "      <th>2</th>\n",
              "      <td>2</td>\n",
              "      <td>3.0</td>\n",
              "      <td>NaN</td>\n",
              "      <td>Vicente DE LIMA</td>\n",
              "      <td>BRABRA</td>\n",
              "      <td>10.26 Q</td>\n",
              "      <td>0.168</td>\n",
              "      <td>100 m</td>\n",
              "      <td>Heats</td>\n",
              "      <td>M</td>\n",
              "      <td>2008</td>\n",
              "    </tr>\n",
              "    <tr>\n",
              "      <th>3</th>\n",
              "      <td>3</td>\n",
              "      <td>4.0</td>\n",
              "      <td>NaN</td>\n",
              "      <td>Henry VIZCAÍNO</td>\n",
              "      <td>CUBCUB</td>\n",
              "      <td>10.28 q</td>\n",
              "      <td>0.157</td>\n",
              "      <td>100 m</td>\n",
              "      <td>Heats</td>\n",
              "      <td>M</td>\n",
              "      <td>2008</td>\n",
              "    </tr>\n",
              "    <tr>\n",
              "      <th>4</th>\n",
              "      <td>4</td>\n",
              "      <td>5.0</td>\n",
              "      <td>NaN</td>\n",
              "      <td>Fabio CERUTTI</td>\n",
              "      <td>ITAITA</td>\n",
              "      <td>10.49</td>\n",
              "      <td>0.136</td>\n",
              "      <td>100 m</td>\n",
              "      <td>Heats</td>\n",
              "      <td>M</td>\n",
              "      <td>2008</td>\n",
              "    </tr>\n",
              "  </tbody>\n",
              "</table>\n",
              "</div>"
            ],
            "text/plain": [
              "   Unnamed: 0  POS  BIB          ATHLETE COUNTRY     MARK  RxnTime   Race  \\\n",
              "0           0  1.0  NaN       Usain BOLT  JAMJAM  10.20 Q    0.186  100 m   \n",
              "1           1  2.0  NaN    Daniel BAILEY  ANTANT  10.24 Q    0.198  100 m   \n",
              "2           2  3.0  NaN  Vicente DE LIMA  BRABRA  10.26 Q    0.168  100 m   \n",
              "3           3  4.0  NaN   Henry VIZCAÍNO  CUBCUB  10.28 q    0.157  100 m   \n",
              "4           4  5.0  NaN    Fabio CERUTTI  ITAITA    10.49    0.136  100 m   \n",
              "\n",
              "   Round Gender  Year  \n",
              "0  Heats      M  2008  \n",
              "1  Heats      M  2008  \n",
              "2  Heats      M  2008  \n",
              "3  Heats      M  2008  \n",
              "4  Heats      M  2008  "
            ]
          },
          "metadata": {
            "tags": []
          },
          "execution_count": 2
        }
      ]
    },
    {
      "metadata": {
        "id": "gw2LDuE60k1s",
        "colab_type": "text"
      },
      "cell_type": "markdown",
      "source": [
        "#### Now complete the numbered tasks below.  Read the question, then use the code block to fill in your solution"
      ]
    },
    {
      "metadata": {
        "id": "q92j2uJw0k1t",
        "colab_type": "text"
      },
      "cell_type": "markdown",
      "source": [
        "1) A method is just a function that belongs to an object (like a dataframe).  The `.head()` method is a good way to preview the data that you loaded.  Sometimes people work with datasets with thousands or even millions of rows.  You usually don't need to see them all at once!  But sometimes you want to see more than 5 rows.  Try passing an argument to `.head()`, in order to see more rows.  For example, `.head(10)` to see 10 rows.  Or pick some other number."
      ]
    },
    {
      "metadata": {
        "id": "-gcaTAyl0k1t",
        "colab_type": "code",
        "outputId": "0e3374a4-f1e9-4df6-8b14-bc0a5addb6aa",
        "colab": {
          "base_uri": "https://localhost:8080/",
          "height": 514
        }
      },
      "cell_type": "code",
      "source": [
        "# Fill in your answer to 1 here\n",
        "df.head(15)"
      ],
      "execution_count": 0,
      "outputs": [
        {
          "output_type": "execute_result",
          "data": {
            "text/html": [
              "<div>\n",
              "<style scoped>\n",
              "    .dataframe tbody tr th:only-of-type {\n",
              "        vertical-align: middle;\n",
              "    }\n",
              "\n",
              "    .dataframe tbody tr th {\n",
              "        vertical-align: top;\n",
              "    }\n",
              "\n",
              "    .dataframe thead th {\n",
              "        text-align: right;\n",
              "    }\n",
              "</style>\n",
              "<table border=\"1\" class=\"dataframe\">\n",
              "  <thead>\n",
              "    <tr style=\"text-align: right;\">\n",
              "      <th></th>\n",
              "      <th>Unnamed: 0</th>\n",
              "      <th>POS</th>\n",
              "      <th>BIB</th>\n",
              "      <th>ATHLETE</th>\n",
              "      <th>COUNTRY</th>\n",
              "      <th>MARK</th>\n",
              "      <th>RxnTime</th>\n",
              "      <th>Race</th>\n",
              "      <th>Round</th>\n",
              "      <th>Gender</th>\n",
              "      <th>Year</th>\n",
              "    </tr>\n",
              "  </thead>\n",
              "  <tbody>\n",
              "    <tr>\n",
              "      <th>0</th>\n",
              "      <td>0</td>\n",
              "      <td>1.0</td>\n",
              "      <td>NaN</td>\n",
              "      <td>Usain BOLT</td>\n",
              "      <td>JAMJAM</td>\n",
              "      <td>10.20 Q</td>\n",
              "      <td>0.186</td>\n",
              "      <td>100 m</td>\n",
              "      <td>Heats</td>\n",
              "      <td>M</td>\n",
              "      <td>2008</td>\n",
              "    </tr>\n",
              "    <tr>\n",
              "      <th>1</th>\n",
              "      <td>1</td>\n",
              "      <td>2.0</td>\n",
              "      <td>NaN</td>\n",
              "      <td>Daniel BAILEY</td>\n",
              "      <td>ANTANT</td>\n",
              "      <td>10.24 Q</td>\n",
              "      <td>0.198</td>\n",
              "      <td>100 m</td>\n",
              "      <td>Heats</td>\n",
              "      <td>M</td>\n",
              "      <td>2008</td>\n",
              "    </tr>\n",
              "    <tr>\n",
              "      <th>2</th>\n",
              "      <td>2</td>\n",
              "      <td>3.0</td>\n",
              "      <td>NaN</td>\n",
              "      <td>Vicente DE LIMA</td>\n",
              "      <td>BRABRA</td>\n",
              "      <td>10.26 Q</td>\n",
              "      <td>0.168</td>\n",
              "      <td>100 m</td>\n",
              "      <td>Heats</td>\n",
              "      <td>M</td>\n",
              "      <td>2008</td>\n",
              "    </tr>\n",
              "    <tr>\n",
              "      <th>3</th>\n",
              "      <td>3</td>\n",
              "      <td>4.0</td>\n",
              "      <td>NaN</td>\n",
              "      <td>Henry VIZCAÍNO</td>\n",
              "      <td>CUBCUB</td>\n",
              "      <td>10.28 q</td>\n",
              "      <td>0.157</td>\n",
              "      <td>100 m</td>\n",
              "      <td>Heats</td>\n",
              "      <td>M</td>\n",
              "      <td>2008</td>\n",
              "    </tr>\n",
              "    <tr>\n",
              "      <th>4</th>\n",
              "      <td>4</td>\n",
              "      <td>5.0</td>\n",
              "      <td>NaN</td>\n",
              "      <td>Fabio CERUTTI</td>\n",
              "      <td>ITAITA</td>\n",
              "      <td>10.49</td>\n",
              "      <td>0.136</td>\n",
              "      <td>100 m</td>\n",
              "      <td>Heats</td>\n",
              "      <td>M</td>\n",
              "      <td>2008</td>\n",
              "    </tr>\n",
              "    <tr>\n",
              "      <th>5</th>\n",
              "      <td>5</td>\n",
              "      <td>6.0</td>\n",
              "      <td>NaN</td>\n",
              "      <td>Jurgen THEMEN</td>\n",
              "      <td>SURSUR</td>\n",
              "      <td>10.61</td>\n",
              "      <td>0.179</td>\n",
              "      <td>100 m</td>\n",
              "      <td>Heats</td>\n",
              "      <td>M</td>\n",
              "      <td>2008</td>\n",
              "    </tr>\n",
              "    <tr>\n",
              "      <th>6</th>\n",
              "      <td>6</td>\n",
              "      <td>7.0</td>\n",
              "      <td>NaN</td>\n",
              "      <td>Moses KAMUT</td>\n",
              "      <td>VANVAN</td>\n",
              "      <td>10.81</td>\n",
              "      <td>0.181</td>\n",
              "      <td>100 m</td>\n",
              "      <td>Heats</td>\n",
              "      <td>M</td>\n",
              "      <td>2008</td>\n",
              "    </tr>\n",
              "    <tr>\n",
              "      <th>7</th>\n",
              "      <td>7</td>\n",
              "      <td>8.0</td>\n",
              "      <td>NaN</td>\n",
              "      <td>Francis MANIORU</td>\n",
              "      <td>SOLSOL</td>\n",
              "      <td>11.09</td>\n",
              "      <td>0.197</td>\n",
              "      <td>100 m</td>\n",
              "      <td>Heats</td>\n",
              "      <td>M</td>\n",
              "      <td>2008</td>\n",
              "    </tr>\n",
              "    <tr>\n",
              "      <th>8</th>\n",
              "      <td>8</td>\n",
              "      <td>1.0</td>\n",
              "      <td>NaN</td>\n",
              "      <td>Asafa POWELL</td>\n",
              "      <td>JAMJAM</td>\n",
              "      <td>10.16 Q</td>\n",
              "      <td>0.142</td>\n",
              "      <td>100 m</td>\n",
              "      <td>Heats</td>\n",
              "      <td>M</td>\n",
              "      <td>2008</td>\n",
              "    </tr>\n",
              "    <tr>\n",
              "      <th>9</th>\n",
              "      <td>9</td>\n",
              "      <td>2.0</td>\n",
              "      <td>NaN</td>\n",
              "      <td>Kim COLLINS</td>\n",
              "      <td>SKNSKN</td>\n",
              "      <td>10.17 Q</td>\n",
              "      <td>0.162</td>\n",
              "      <td>100 m</td>\n",
              "      <td>Heats</td>\n",
              "      <td>M</td>\n",
              "      <td>2008</td>\n",
              "    </tr>\n",
              "    <tr>\n",
              "      <th>10</th>\n",
              "      <td>10</td>\n",
              "      <td>3.0</td>\n",
              "      <td>NaN</td>\n",
              "      <td>Craig PICKERING</td>\n",
              "      <td>GBRGBR</td>\n",
              "      <td>10.21 Q</td>\n",
              "      <td>0.174</td>\n",
              "      <td>100 m</td>\n",
              "      <td>Heats</td>\n",
              "      <td>M</td>\n",
              "      <td>2008</td>\n",
              "    </tr>\n",
              "    <tr>\n",
              "      <th>11</th>\n",
              "      <td>11</td>\n",
              "      <td>4.0</td>\n",
              "      <td>NaN</td>\n",
              "      <td>Daniel GRUESO</td>\n",
              "      <td>COLCOL</td>\n",
              "      <td>10.35 q</td>\n",
              "      <td>0.178</td>\n",
              "      <td>100 m</td>\n",
              "      <td>Heats</td>\n",
              "      <td>M</td>\n",
              "      <td>2008</td>\n",
              "    </tr>\n",
              "    <tr>\n",
              "      <th>12</th>\n",
              "      <td>12</td>\n",
              "      <td>5.0</td>\n",
              "      <td>NaN</td>\n",
              "      <td>Dariusz KUC</td>\n",
              "      <td>POLPOL</td>\n",
              "      <td>10.44 q</td>\n",
              "      <td>0.144</td>\n",
              "      <td>100 m</td>\n",
              "      <td>Heats</td>\n",
              "      <td>M</td>\n",
              "      <td>2008</td>\n",
              "    </tr>\n",
              "    <tr>\n",
              "      <th>13</th>\n",
              "      <td>13</td>\n",
              "      <td>6.0</td>\n",
              "      <td>NaN</td>\n",
              "      <td>Berenger Aymard BOSSE</td>\n",
              "      <td>CAFCAF</td>\n",
              "      <td>10.51</td>\n",
              "      <td>0.144</td>\n",
              "      <td>100 m</td>\n",
              "      <td>Heats</td>\n",
              "      <td>M</td>\n",
              "      <td>2008</td>\n",
              "    </tr>\n",
              "    <tr>\n",
              "      <th>14</th>\n",
              "      <td>14</td>\n",
              "      <td>7.0</td>\n",
              "      <td>NaN</td>\n",
              "      <td>Aisea TOHI</td>\n",
              "      <td>TGATGA</td>\n",
              "      <td>11.17</td>\n",
              "      <td>0.159</td>\n",
              "      <td>100 m</td>\n",
              "      <td>Heats</td>\n",
              "      <td>M</td>\n",
              "      <td>2008</td>\n",
              "    </tr>\n",
              "  </tbody>\n",
              "</table>\n",
              "</div>"
            ],
            "text/plain": [
              "    Unnamed: 0  POS  BIB                ATHLETE COUNTRY     MARK  RxnTime  \\\n",
              "0            0  1.0  NaN             Usain BOLT  JAMJAM  10.20 Q    0.186   \n",
              "1            1  2.0  NaN          Daniel BAILEY  ANTANT  10.24 Q    0.198   \n",
              "2            2  3.0  NaN        Vicente DE LIMA  BRABRA  10.26 Q    0.168   \n",
              "3            3  4.0  NaN         Henry VIZCAÍNO  CUBCUB  10.28 q    0.157   \n",
              "4            4  5.0  NaN          Fabio CERUTTI  ITAITA    10.49    0.136   \n",
              "5            5  6.0  NaN          Jurgen THEMEN  SURSUR    10.61    0.179   \n",
              "6            6  7.0  NaN            Moses KAMUT  VANVAN    10.81    0.181   \n",
              "7            7  8.0  NaN        Francis MANIORU  SOLSOL    11.09    0.197   \n",
              "8            8  1.0  NaN           Asafa POWELL  JAMJAM  10.16 Q    0.142   \n",
              "9            9  2.0  NaN            Kim COLLINS  SKNSKN  10.17 Q    0.162   \n",
              "10          10  3.0  NaN        Craig PICKERING  GBRGBR  10.21 Q    0.174   \n",
              "11          11  4.0  NaN          Daniel GRUESO  COLCOL  10.35 q    0.178   \n",
              "12          12  5.0  NaN            Dariusz KUC  POLPOL  10.44 q    0.144   \n",
              "13          13  6.0  NaN  Berenger Aymard BOSSE  CAFCAF    10.51    0.144   \n",
              "14          14  7.0  NaN             Aisea TOHI  TGATGA    11.17    0.159   \n",
              "\n",
              "     Race  Round Gender  Year  \n",
              "0   100 m  Heats      M  2008  \n",
              "1   100 m  Heats      M  2008  \n",
              "2   100 m  Heats      M  2008  \n",
              "3   100 m  Heats      M  2008  \n",
              "4   100 m  Heats      M  2008  \n",
              "5   100 m  Heats      M  2008  \n",
              "6   100 m  Heats      M  2008  \n",
              "7   100 m  Heats      M  2008  \n",
              "8   100 m  Heats      M  2008  \n",
              "9   100 m  Heats      M  2008  \n",
              "10  100 m  Heats      M  2008  \n",
              "11  100 m  Heats      M  2008  \n",
              "12  100 m  Heats      M  2008  \n",
              "13  100 m  Heats      M  2008  \n",
              "14  100 m  Heats      M  2008  "
            ]
          },
          "metadata": {
            "tags": []
          },
          "execution_count": 3
        }
      ]
    },
    {
      "metadata": {
        "id": "2yLVfiBk0k1z",
        "colab_type": "text"
      },
      "cell_type": "markdown",
      "source": [
        "2) You can also look at the *last* few rows of the data, using the `.tail()` method. Try viewing the last 12 rows of the dataset.  "
      ]
    },
    {
      "metadata": {
        "id": "mEDZoObt0k11",
        "colab_type": "code",
        "outputId": "75a549e7-081f-425b-85bb-39d376c2953c",
        "colab": {
          "base_uri": "https://localhost:8080/",
          "height": 421
        }
      },
      "cell_type": "code",
      "source": [
        "# Fill in your answer to 2 here\n",
        "df.tail(12)"
      ],
      "execution_count": 0,
      "outputs": [
        {
          "output_type": "execute_result",
          "data": {
            "text/html": [
              "<div>\n",
              "<style scoped>\n",
              "    .dataframe tbody tr th:only-of-type {\n",
              "        vertical-align: middle;\n",
              "    }\n",
              "\n",
              "    .dataframe tbody tr th {\n",
              "        vertical-align: top;\n",
              "    }\n",
              "\n",
              "    .dataframe thead th {\n",
              "        text-align: right;\n",
              "    }\n",
              "</style>\n",
              "<table border=\"1\" class=\"dataframe\">\n",
              "  <thead>\n",
              "    <tr style=\"text-align: right;\">\n",
              "      <th></th>\n",
              "      <th>Unnamed: 0</th>\n",
              "      <th>POS</th>\n",
              "      <th>BIB</th>\n",
              "      <th>ATHLETE</th>\n",
              "      <th>COUNTRY</th>\n",
              "      <th>MARK</th>\n",
              "      <th>RxnTime</th>\n",
              "      <th>Race</th>\n",
              "      <th>Round</th>\n",
              "      <th>Gender</th>\n",
              "      <th>Year</th>\n",
              "    </tr>\n",
              "  </thead>\n",
              "  <tbody>\n",
              "    <tr>\n",
              "      <th>2445</th>\n",
              "      <td>2445</td>\n",
              "      <td>3.0</td>\n",
              "      <td>NaN</td>\n",
              "      <td>Taiwo ALADEFA-DARDEN</td>\n",
              "      <td>NGRNGR</td>\n",
              "      <td>13.06</td>\n",
              "      <td>NaN</td>\n",
              "      <td>100 m H</td>\n",
              "      <td>Heats</td>\n",
              "      <td>F</td>\n",
              "      <td>1996</td>\n",
              "    </tr>\n",
              "    <tr>\n",
              "      <th>2446</th>\n",
              "      <td>2446</td>\n",
              "      <td>4.0</td>\n",
              "      <td>NaN</td>\n",
              "      <td>Lidiya YURKOVA</td>\n",
              "      <td>BLRBLR</td>\n",
              "      <td>13.2</td>\n",
              "      <td>NaN</td>\n",
              "      <td>100 m H</td>\n",
              "      <td>Heats</td>\n",
              "      <td>F</td>\n",
              "      <td>1996</td>\n",
              "    </tr>\n",
              "    <tr>\n",
              "      <th>2447</th>\n",
              "      <td>2447</td>\n",
              "      <td>5.0</td>\n",
              "      <td>NaN</td>\n",
              "      <td>Nadezhda BODROVA</td>\n",
              "      <td>UKRUKR</td>\n",
              "      <td>13.22</td>\n",
              "      <td>NaN</td>\n",
              "      <td>100 m H</td>\n",
              "      <td>Heats</td>\n",
              "      <td>F</td>\n",
              "      <td>1996</td>\n",
              "    </tr>\n",
              "    <tr>\n",
              "      <th>2448</th>\n",
              "      <td>2448</td>\n",
              "      <td>6.0</td>\n",
              "      <td>NaN</td>\n",
              "      <td>Rachael ROGERS</td>\n",
              "      <td>FIJFIJ</td>\n",
              "      <td>14.07</td>\n",
              "      <td>NaN</td>\n",
              "      <td>100 m H</td>\n",
              "      <td>Heats</td>\n",
              "      <td>F</td>\n",
              "      <td>1996</td>\n",
              "    </tr>\n",
              "    <tr>\n",
              "      <th>2449</th>\n",
              "      <td>2449</td>\n",
              "      <td>NaN</td>\n",
              "      <td>NaN</td>\n",
              "      <td>Elisabeta ANGHEL</td>\n",
              "      <td>ROUROU</td>\n",
              "      <td>DNF</td>\n",
              "      <td>NaN</td>\n",
              "      <td>100 m H</td>\n",
              "      <td>Heats</td>\n",
              "      <td>F</td>\n",
              "      <td>1996</td>\n",
              "    </tr>\n",
              "    <tr>\n",
              "      <th>2450</th>\n",
              "      <td>2450</td>\n",
              "      <td>1.0</td>\n",
              "      <td>NaN</td>\n",
              "      <td>Gail DEVERS</td>\n",
              "      <td>USAUSA</td>\n",
              "      <td>12.73</td>\n",
              "      <td>NaN</td>\n",
              "      <td>100 m H</td>\n",
              "      <td>Heats</td>\n",
              "      <td>F</td>\n",
              "      <td>1996</td>\n",
              "    </tr>\n",
              "    <tr>\n",
              "      <th>2451</th>\n",
              "      <td>2451</td>\n",
              "      <td>2.0</td>\n",
              "      <td>NaN</td>\n",
              "      <td>Gillian RUSSELL-LOVE</td>\n",
              "      <td>JAMJAM</td>\n",
              "      <td>12.85</td>\n",
              "      <td>NaN</td>\n",
              "      <td>100 m H</td>\n",
              "      <td>Heats</td>\n",
              "      <td>F</td>\n",
              "      <td>1996</td>\n",
              "    </tr>\n",
              "    <tr>\n",
              "      <th>2452</th>\n",
              "      <td>2452</td>\n",
              "      <td>3.0</td>\n",
              "      <td>NaN</td>\n",
              "      <td>Yuliya GRAUDYN</td>\n",
              "      <td>RUSRUS</td>\n",
              "      <td>12.95</td>\n",
              "      <td>NaN</td>\n",
              "      <td>100 m H</td>\n",
              "      <td>Heats</td>\n",
              "      <td>F</td>\n",
              "      <td>1996</td>\n",
              "    </tr>\n",
              "    <tr>\n",
              "      <th>2453</th>\n",
              "      <td>2453</td>\n",
              "      <td>4.0</td>\n",
              "      <td>NaN</td>\n",
              "      <td>Ime AKPAN</td>\n",
              "      <td>NGRNGR</td>\n",
              "      <td>13.11</td>\n",
              "      <td>NaN</td>\n",
              "      <td>100 m H</td>\n",
              "      <td>Heats</td>\n",
              "      <td>F</td>\n",
              "      <td>1996</td>\n",
              "    </tr>\n",
              "    <tr>\n",
              "      <th>2454</th>\n",
              "      <td>2454</td>\n",
              "      <td>5.0</td>\n",
              "      <td>NaN</td>\n",
              "      <td>Olena KRASOVSKA</td>\n",
              "      <td>UKRUKR</td>\n",
              "      <td>13.23</td>\n",
              "      <td>NaN</td>\n",
              "      <td>100 m H</td>\n",
              "      <td>Heats</td>\n",
              "      <td>F</td>\n",
              "      <td>1996</td>\n",
              "    </tr>\n",
              "    <tr>\n",
              "      <th>2455</th>\n",
              "      <td>2455</td>\n",
              "      <td>6.0</td>\n",
              "      <td>NaN</td>\n",
              "      <td>Véronique LINSTER</td>\n",
              "      <td>LUXLUX</td>\n",
              "      <td>13.47</td>\n",
              "      <td>NaN</td>\n",
              "      <td>100 m H</td>\n",
              "      <td>Heats</td>\n",
              "      <td>F</td>\n",
              "      <td>1996</td>\n",
              "    </tr>\n",
              "    <tr>\n",
              "      <th>2456</th>\n",
              "      <td>2456</td>\n",
              "      <td>NaN</td>\n",
              "      <td>NaN</td>\n",
              "      <td>Carla TUZZI</td>\n",
              "      <td>ITAITA</td>\n",
              "      <td>DNF</td>\n",
              "      <td>NaN</td>\n",
              "      <td>100 m H</td>\n",
              "      <td>Heats</td>\n",
              "      <td>F</td>\n",
              "      <td>1996</td>\n",
              "    </tr>\n",
              "  </tbody>\n",
              "</table>\n",
              "</div>"
            ],
            "text/plain": [
              "      Unnamed: 0  POS  BIB               ATHLETE COUNTRY   MARK  RxnTime  \\\n",
              "2445        2445  3.0  NaN  Taiwo ALADEFA-DARDEN  NGRNGR  13.06      NaN   \n",
              "2446        2446  4.0  NaN        Lidiya YURKOVA  BLRBLR   13.2      NaN   \n",
              "2447        2447  5.0  NaN      Nadezhda BODROVA  UKRUKR  13.22      NaN   \n",
              "2448        2448  6.0  NaN        Rachael ROGERS  FIJFIJ  14.07      NaN   \n",
              "2449        2449  NaN  NaN      Elisabeta ANGHEL  ROUROU    DNF      NaN   \n",
              "2450        2450  1.0  NaN           Gail DEVERS  USAUSA  12.73      NaN   \n",
              "2451        2451  2.0  NaN  Gillian RUSSELL-LOVE  JAMJAM  12.85      NaN   \n",
              "2452        2452  3.0  NaN        Yuliya GRAUDYN  RUSRUS  12.95      NaN   \n",
              "2453        2453  4.0  NaN             Ime AKPAN  NGRNGR  13.11      NaN   \n",
              "2454        2454  5.0  NaN       Olena KRASOVSKA  UKRUKR  13.23      NaN   \n",
              "2455        2455  6.0  NaN     Véronique LINSTER  LUXLUX  13.47      NaN   \n",
              "2456        2456  NaN  NaN           Carla TUZZI  ITAITA    DNF      NaN   \n",
              "\n",
              "         Race  Round Gender  Year  \n",
              "2445  100 m H  Heats      F  1996  \n",
              "2446  100 m H  Heats      F  1996  \n",
              "2447  100 m H  Heats      F  1996  \n",
              "2448  100 m H  Heats      F  1996  \n",
              "2449  100 m H  Heats      F  1996  \n",
              "2450  100 m H  Heats      F  1996  \n",
              "2451  100 m H  Heats      F  1996  \n",
              "2452  100 m H  Heats      F  1996  \n",
              "2453  100 m H  Heats      F  1996  \n",
              "2454  100 m H  Heats      F  1996  \n",
              "2455  100 m H  Heats      F  1996  \n",
              "2456  100 m H  Heats      F  1996  "
            ]
          },
          "metadata": {
            "tags": []
          },
          "execution_count": 4
        }
      ]
    },
    {
      "metadata": {
        "id": "njd17NBQ0k17",
        "colab_type": "text"
      },
      "cell_type": "markdown",
      "source": [
        "3) How much data do you have?  You can find how many rows and columns you have with the `.shape` attribute.  Note the lack of parentheses here.  Attributes differ from methods in that they don't actually do anything (like print out information, or make a plot), but you can access their value to get information about your data.  The `.shape` attribute reports the number of rows and columns of the dataframe.  How many columns does the dataframe have?  "
      ]
    },
    {
      "metadata": {
        "id": "hnClH4Ft0k18",
        "colab_type": "code",
        "outputId": "d12b1dfb-4f31-4015-c68f-555bed4bed76",
        "colab": {
          "base_uri": "https://localhost:8080/",
          "height": 34
        }
      },
      "cell_type": "code",
      "source": [
        "# Fill in your answer to 3 here\n",
        "df.shape"
      ],
      "execution_count": 0,
      "outputs": [
        {
          "output_type": "execute_result",
          "data": {
            "text/plain": [
              "(2457, 11)"
            ]
          },
          "metadata": {
            "tags": []
          },
          "execution_count": 5
        }
      ]
    },
    {
      "metadata": {
        "id": "-DIdhjcC0k2A",
        "colab_type": "text"
      },
      "cell_type": "markdown",
      "source": [
        "4) Sometimes you only care about one column in your dataframe.  You can access it be name.  For example, `df['ATHLETE']` will access the \"ATHLETE\" column.  Access the column for reaction time. "
      ]
    },
    {
      "metadata": {
        "id": "C1ycmYdI0k2A",
        "colab_type": "code",
        "outputId": "8a23ddf0-4c2c-4cfd-9c41-3bb44873278b",
        "colab": {
          "base_uri": "https://localhost:8080/",
          "height": 119
        }
      },
      "cell_type": "code",
      "source": [
        "# Fill in your answer to 4 here\n",
        "df['RxnTime'].head()"
      ],
      "execution_count": 0,
      "outputs": [
        {
          "output_type": "execute_result",
          "data": {
            "text/plain": [
              "0    0.186\n",
              "1    0.198\n",
              "2    0.168\n",
              "3    0.157\n",
              "4    0.136\n",
              "Name: RxnTime, dtype: float64"
            ]
          },
          "metadata": {
            "tags": []
          },
          "execution_count": 6
        }
      ]
    },
    {
      "metadata": {
        "id": "hci-Ekpd0k2F",
        "colab_type": "text"
      },
      "cell_type": "markdown",
      "source": [
        "5) Notice that the above doesn't look like a dataframe anymore.  That's because you've only accessed one column, so the two-dimensional dataset (rows x columns) is now only one-dimensional. One-dimensional data in Pandas is convered into a so-called \"Series\".  Many of the same methods that belong to dataframes also belong to a series, e.g. `.head()` or `.mean()`.  Find the median reaction time as you did in the earlier homework assignment, but operating directly on the series containing the reaction times.  "
      ]
    },
    {
      "metadata": {
        "id": "On8DeEUa0k2G",
        "colab_type": "code",
        "outputId": "9a744e51-f5c4-4239-ee26-25c61312002c",
        "colab": {
          "base_uri": "https://localhost:8080/",
          "height": 34
        }
      },
      "cell_type": "code",
      "source": [
        "# Fill in your answer to 5 here\n",
        "df['RxnTime'].median()"
      ],
      "execution_count": 0,
      "outputs": [
        {
          "output_type": "execute_result",
          "data": {
            "text/plain": [
              "0.165"
            ]
          },
          "metadata": {
            "tags": []
          },
          "execution_count": 7
        }
      ]
    },
    {
      "metadata": {
        "id": "sEqGIQrO0k2J",
        "colab_type": "text"
      },
      "cell_type": "markdown",
      "source": [
        "6) Sometimes you want to keep a dataframe, but just with fewer columns.  For example, only the name and reaction time.  You do this with an extra set of brackets, i.e. `df[['col1','col2']]` if you wanted to access hypothetical columns named 'col1' and 'col2'.  Try generating a dataframe that has only the name and reaction time columns from the original dataset.  "
      ]
    },
    {
      "metadata": {
        "id": "GxyrMHGJ0k2L",
        "colab_type": "code",
        "outputId": "904ee3a3-672b-4240-8e56-164c83c72ebb",
        "colab": {
          "base_uri": "https://localhost:8080/",
          "height": 204
        }
      },
      "cell_type": "code",
      "source": [
        "# Fill in your answer to 6 here\n",
        "df[['ATHLETE','RxnTime']].head()"
      ],
      "execution_count": 0,
      "outputs": [
        {
          "output_type": "execute_result",
          "data": {
            "text/html": [
              "<div>\n",
              "<style scoped>\n",
              "    .dataframe tbody tr th:only-of-type {\n",
              "        vertical-align: middle;\n",
              "    }\n",
              "\n",
              "    .dataframe tbody tr th {\n",
              "        vertical-align: top;\n",
              "    }\n",
              "\n",
              "    .dataframe thead th {\n",
              "        text-align: right;\n",
              "    }\n",
              "</style>\n",
              "<table border=\"1\" class=\"dataframe\">\n",
              "  <thead>\n",
              "    <tr style=\"text-align: right;\">\n",
              "      <th></th>\n",
              "      <th>ATHLETE</th>\n",
              "      <th>RxnTime</th>\n",
              "    </tr>\n",
              "  </thead>\n",
              "  <tbody>\n",
              "    <tr>\n",
              "      <th>0</th>\n",
              "      <td>Usain BOLT</td>\n",
              "      <td>0.186</td>\n",
              "    </tr>\n",
              "    <tr>\n",
              "      <th>1</th>\n",
              "      <td>Daniel BAILEY</td>\n",
              "      <td>0.198</td>\n",
              "    </tr>\n",
              "    <tr>\n",
              "      <th>2</th>\n",
              "      <td>Vicente DE LIMA</td>\n",
              "      <td>0.168</td>\n",
              "    </tr>\n",
              "    <tr>\n",
              "      <th>3</th>\n",
              "      <td>Henry VIZCAÍNO</td>\n",
              "      <td>0.157</td>\n",
              "    </tr>\n",
              "    <tr>\n",
              "      <th>4</th>\n",
              "      <td>Fabio CERUTTI</td>\n",
              "      <td>0.136</td>\n",
              "    </tr>\n",
              "  </tbody>\n",
              "</table>\n",
              "</div>"
            ],
            "text/plain": [
              "           ATHLETE  RxnTime\n",
              "0       Usain BOLT    0.186\n",
              "1    Daniel BAILEY    0.198\n",
              "2  Vicente DE LIMA    0.168\n",
              "3   Henry VIZCAÍNO    0.157\n",
              "4    Fabio CERUTTI    0.136"
            ]
          },
          "metadata": {
            "tags": []
          },
          "execution_count": 8
        }
      ]
    },
    {
      "metadata": {
        "id": "MU1f0Yoh0k2O",
        "colab_type": "text"
      },
      "cell_type": "markdown",
      "source": [
        "7) Columns have names ('ATHLETE', 'COUNTRY', etc.), but so do rows.  The row names are part of the so-called \"index\" of the dataframe (or series), and allow you to access data more intuitively than just by row number.  In this case though, the names in the index are the row numbers.  You can extract row 144 with `df.loc[144]`.  Note the use of the `.loc` attribute, and the brackets instead of parentheses.  Use this extract the row containing Usain Bolt's 2008 preliminary heats data (hint, it is at the beginning of the dataframe)."
      ]
    },
    {
      "metadata": {
        "id": "noeMdtfk0k2P",
        "colab_type": "code",
        "outputId": "a0fc42bd-1971-4fea-9152-2a6e8c65fe48",
        "colab": {
          "base_uri": "https://localhost:8080/",
          "height": 221
        }
      },
      "cell_type": "code",
      "source": [
        "# Fill in your answer to 7 here\n",
        "df.loc[0]"
      ],
      "execution_count": 0,
      "outputs": [
        {
          "output_type": "execute_result",
          "data": {
            "text/plain": [
              "Unnamed: 0             0\n",
              "POS                    1\n",
              "BIB                  NaN\n",
              "ATHLETE       Usain BOLT\n",
              "COUNTRY           JAMJAM\n",
              "MARK             10.20 Q\n",
              "RxnTime            0.186\n",
              "Race               100 m\n",
              "Round              Heats\n",
              "Gender                 M\n",
              "Year                2008\n",
              "Name: 0, dtype: object"
            ]
          },
          "metadata": {
            "tags": []
          },
          "execution_count": 9
        }
      ]
    },
    {
      "metadata": {
        "id": "tDuo0ucE0k2T",
        "colab_type": "text"
      },
      "cell_type": "markdown",
      "source": [
        "8) You can access specific cells of the dataframe by row and column using `.loc`, e.g. `df.loc[7,'Country']`.  You can also edit data the same way.  Maybe Usain Bolt's preliminary heats time was faster than reported, say 9.5 seconds?  Edit the dataframe with `.loc` to make that change.  Be sure to use the `=` sign or you won't actually make the change!"
      ]
    },
    {
      "metadata": {
        "id": "0QTuES8E0k2T",
        "colab_type": "code",
        "outputId": "28f08276-9702-45d9-8a2c-92f7ad373a1a",
        "colab": {
          "base_uri": "https://localhost:8080/",
          "height": 221
        }
      },
      "cell_type": "code",
      "source": [
        "# Fill in your answer to 8 here\n",
        "df.loc[0,'MARK']=9.5\n",
        "df.loc[0]"
      ],
      "execution_count": 0,
      "outputs": [
        {
          "output_type": "execute_result",
          "data": {
            "text/plain": [
              "Unnamed: 0             0\n",
              "POS                    1\n",
              "BIB                  NaN\n",
              "ATHLETE       Usain BOLT\n",
              "COUNTRY           JAMJAM\n",
              "MARK                 9.5\n",
              "RxnTime            0.186\n",
              "Race               100 m\n",
              "Round              Heats\n",
              "Gender                 M\n",
              "Year                2008\n",
              "Name: 0, dtype: object"
            ]
          },
          "metadata": {
            "tags": []
          },
          "execution_count": 10
        }
      ]
    },
    {
      "metadata": {
        "id": "9fr9GQNO0k2W",
        "colab_type": "text"
      },
      "cell_type": "markdown",
      "source": [
        "9) I don't like the way this data is organized.  Accessing it by arbitrary row numbers is not intuitive at all.  Let's organize the data by athlete name and year instead, using the `set_index()` method.  Inside the parentheses, put a list containing the column name indicating athlete name and the column name indicating the year.  Don't forget quotes and brackets!  "
      ]
    },
    {
      "metadata": {
        "id": "rqW7Jw5m0k2X",
        "colab_type": "code",
        "outputId": "7d9cd687-c176-4a8f-c107-743bad048b2d",
        "colab": {
          "base_uri": "https://localhost:8080/",
          "height": 235
        }
      },
      "cell_type": "code",
      "source": [
        "# Fill in your answer to 9 here\n",
        "df.set_index(['ATHLETE','Year']).head()"
      ],
      "execution_count": 0,
      "outputs": [
        {
          "output_type": "execute_result",
          "data": {
            "text/html": [
              "<div>\n",
              "<style scoped>\n",
              "    .dataframe tbody tr th:only-of-type {\n",
              "        vertical-align: middle;\n",
              "    }\n",
              "\n",
              "    .dataframe tbody tr th {\n",
              "        vertical-align: top;\n",
              "    }\n",
              "\n",
              "    .dataframe thead th {\n",
              "        text-align: right;\n",
              "    }\n",
              "</style>\n",
              "<table border=\"1\" class=\"dataframe\">\n",
              "  <thead>\n",
              "    <tr style=\"text-align: right;\">\n",
              "      <th></th>\n",
              "      <th></th>\n",
              "      <th>Unnamed: 0</th>\n",
              "      <th>POS</th>\n",
              "      <th>BIB</th>\n",
              "      <th>COUNTRY</th>\n",
              "      <th>MARK</th>\n",
              "      <th>RxnTime</th>\n",
              "      <th>Race</th>\n",
              "      <th>Round</th>\n",
              "      <th>Gender</th>\n",
              "    </tr>\n",
              "    <tr>\n",
              "      <th>ATHLETE</th>\n",
              "      <th>Year</th>\n",
              "      <th></th>\n",
              "      <th></th>\n",
              "      <th></th>\n",
              "      <th></th>\n",
              "      <th></th>\n",
              "      <th></th>\n",
              "      <th></th>\n",
              "      <th></th>\n",
              "      <th></th>\n",
              "    </tr>\n",
              "  </thead>\n",
              "  <tbody>\n",
              "    <tr>\n",
              "      <th>Usain BOLT</th>\n",
              "      <th>2008</th>\n",
              "      <td>0</td>\n",
              "      <td>1.0</td>\n",
              "      <td>NaN</td>\n",
              "      <td>JAMJAM</td>\n",
              "      <td>9.5</td>\n",
              "      <td>0.186</td>\n",
              "      <td>100 m</td>\n",
              "      <td>Heats</td>\n",
              "      <td>M</td>\n",
              "    </tr>\n",
              "    <tr>\n",
              "      <th>Daniel BAILEY</th>\n",
              "      <th>2008</th>\n",
              "      <td>1</td>\n",
              "      <td>2.0</td>\n",
              "      <td>NaN</td>\n",
              "      <td>ANTANT</td>\n",
              "      <td>10.24 Q</td>\n",
              "      <td>0.198</td>\n",
              "      <td>100 m</td>\n",
              "      <td>Heats</td>\n",
              "      <td>M</td>\n",
              "    </tr>\n",
              "    <tr>\n",
              "      <th>Vicente DE LIMA</th>\n",
              "      <th>2008</th>\n",
              "      <td>2</td>\n",
              "      <td>3.0</td>\n",
              "      <td>NaN</td>\n",
              "      <td>BRABRA</td>\n",
              "      <td>10.26 Q</td>\n",
              "      <td>0.168</td>\n",
              "      <td>100 m</td>\n",
              "      <td>Heats</td>\n",
              "      <td>M</td>\n",
              "    </tr>\n",
              "    <tr>\n",
              "      <th>Henry VIZCAÍNO</th>\n",
              "      <th>2008</th>\n",
              "      <td>3</td>\n",
              "      <td>4.0</td>\n",
              "      <td>NaN</td>\n",
              "      <td>CUBCUB</td>\n",
              "      <td>10.28 q</td>\n",
              "      <td>0.157</td>\n",
              "      <td>100 m</td>\n",
              "      <td>Heats</td>\n",
              "      <td>M</td>\n",
              "    </tr>\n",
              "    <tr>\n",
              "      <th>Fabio CERUTTI</th>\n",
              "      <th>2008</th>\n",
              "      <td>4</td>\n",
              "      <td>5.0</td>\n",
              "      <td>NaN</td>\n",
              "      <td>ITAITA</td>\n",
              "      <td>10.49</td>\n",
              "      <td>0.136</td>\n",
              "      <td>100 m</td>\n",
              "      <td>Heats</td>\n",
              "      <td>M</td>\n",
              "    </tr>\n",
              "  </tbody>\n",
              "</table>\n",
              "</div>"
            ],
            "text/plain": [
              "                      Unnamed: 0  POS  BIB COUNTRY     MARK  RxnTime   Race  \\\n",
              "ATHLETE         Year                                                          \n",
              "Usain BOLT      2008           0  1.0  NaN  JAMJAM      9.5    0.186  100 m   \n",
              "Daniel BAILEY   2008           1  2.0  NaN  ANTANT  10.24 Q    0.198  100 m   \n",
              "Vicente DE LIMA 2008           2  3.0  NaN  BRABRA  10.26 Q    0.168  100 m   \n",
              "Henry VIZCAÍNO  2008           3  4.0  NaN  CUBCUB  10.28 q    0.157  100 m   \n",
              "Fabio CERUTTI   2008           4  5.0  NaN  ITAITA    10.49    0.136  100 m   \n",
              "\n",
              "                      Round Gender  \n",
              "ATHLETE         Year                \n",
              "Usain BOLT      2008  Heats      M  \n",
              "Daniel BAILEY   2008  Heats      M  \n",
              "Vicente DE LIMA 2008  Heats      M  \n",
              "Henry VIZCAÍNO  2008  Heats      M  \n",
              "Fabio CERUTTI   2008  Heats      M  "
            ]
          },
          "metadata": {
            "tags": []
          },
          "execution_count": 11
        }
      ]
    },
    {
      "metadata": {
        "id": "Ei3cj4cB0k2d",
        "colab_type": "text"
      },
      "cell_type": "markdown",
      "source": [
        "10) That's OK, but it doesn't look much nicer.  Maybe if it the index was sorted?  If you've ever done a hierarchical sort in Excel, this will be similar.  Try the same command as above, but append `.sort_index()`  to it"
      ]
    },
    {
      "metadata": {
        "id": "2EY91jFK0k2e",
        "colab_type": "code",
        "outputId": "5bb47064-ccb7-4a80-c052-8c828c6e987d",
        "colab": {
          "base_uri": "https://localhost:8080/",
          "height": 235
        }
      },
      "cell_type": "code",
      "source": [
        "# Fill in your answer to 10 here\n",
        "df = df.reset_index()\n",
        "df.set_index(['ATHLETE','Year']).sort_index().head()"
      ],
      "execution_count": 0,
      "outputs": [
        {
          "output_type": "execute_result",
          "data": {
            "text/html": [
              "<div>\n",
              "<style scoped>\n",
              "    .dataframe tbody tr th:only-of-type {\n",
              "        vertical-align: middle;\n",
              "    }\n",
              "\n",
              "    .dataframe tbody tr th {\n",
              "        vertical-align: top;\n",
              "    }\n",
              "\n",
              "    .dataframe thead th {\n",
              "        text-align: right;\n",
              "    }\n",
              "</style>\n",
              "<table border=\"1\" class=\"dataframe\">\n",
              "  <thead>\n",
              "    <tr style=\"text-align: right;\">\n",
              "      <th></th>\n",
              "      <th></th>\n",
              "      <th>index</th>\n",
              "      <th>Unnamed: 0</th>\n",
              "      <th>POS</th>\n",
              "      <th>BIB</th>\n",
              "      <th>COUNTRY</th>\n",
              "      <th>MARK</th>\n",
              "      <th>RxnTime</th>\n",
              "      <th>Race</th>\n",
              "      <th>Round</th>\n",
              "      <th>Gender</th>\n",
              "    </tr>\n",
              "    <tr>\n",
              "      <th>ATHLETE</th>\n",
              "      <th>Year</th>\n",
              "      <th></th>\n",
              "      <th></th>\n",
              "      <th></th>\n",
              "      <th></th>\n",
              "      <th></th>\n",
              "      <th></th>\n",
              "      <th></th>\n",
              "      <th></th>\n",
              "      <th></th>\n",
              "      <th></th>\n",
              "    </tr>\n",
              "  </thead>\n",
              "  <tbody>\n",
              "    <tr>\n",
              "      <th>Aaron BROWN</th>\n",
              "      <th>2016</th>\n",
              "      <td>1147</td>\n",
              "      <td>1147</td>\n",
              "      <td>3.0</td>\n",
              "      <td>2192.0</td>\n",
              "      <td>CANCAN</td>\n",
              "      <td>10.24</td>\n",
              "      <td>0.135</td>\n",
              "      <td>100 m</td>\n",
              "      <td>Heats</td>\n",
              "      <td>M</td>\n",
              "    </tr>\n",
              "    <tr>\n",
              "      <th>Abdul GHAFOOR</th>\n",
              "      <th>1996</th>\n",
              "      <td>2257</td>\n",
              "      <td>2257</td>\n",
              "      <td>8.0</td>\n",
              "      <td>NaN</td>\n",
              "      <td>AFGAFG</td>\n",
              "      <td>12.2</td>\n",
              "      <td>NaN</td>\n",
              "      <td>100 m</td>\n",
              "      <td>Heats</td>\n",
              "      <td>M</td>\n",
              "    </tr>\n",
              "    <tr>\n",
              "      <th>Abdul RASHID</th>\n",
              "      <th>2008</th>\n",
              "      <td>378</td>\n",
              "      <td>378</td>\n",
              "      <td>8.0</td>\n",
              "      <td>NaN</td>\n",
              "      <td>PAKPAK</td>\n",
              "      <td>14.52</td>\n",
              "      <td>0.172</td>\n",
              "      <td>110 m H</td>\n",
              "      <td>Heats</td>\n",
              "      <td>M</td>\n",
              "    </tr>\n",
              "    <tr>\n",
              "      <th>Abdul Wahab ZAHIRI</th>\n",
              "      <th>2016</th>\n",
              "      <td>1068</td>\n",
              "      <td>1068</td>\n",
              "      <td>7.0</td>\n",
              "      <td>2000.0</td>\n",
              "      <td>AFGAFG</td>\n",
              "      <td>11.56</td>\n",
              "      <td>0.170</td>\n",
              "      <td>100 m</td>\n",
              "      <td>Preliminary</td>\n",
              "      <td>M</td>\n",
              "    </tr>\n",
              "    <tr>\n",
              "      <th>Abdullah AL-SOOLI</th>\n",
              "      <th>2008</th>\n",
              "      <td>44</td>\n",
              "      <td>44</td>\n",
              "      <td>5.0</td>\n",
              "      <td>NaN</td>\n",
              "      <td>OMAOMA</td>\n",
              "      <td>10.53</td>\n",
              "      <td>0.153</td>\n",
              "      <td>100 m</td>\n",
              "      <td>Heats</td>\n",
              "      <td>M</td>\n",
              "    </tr>\n",
              "  </tbody>\n",
              "</table>\n",
              "</div>"
            ],
            "text/plain": [
              "                         index  Unnamed: 0  POS     BIB COUNTRY   MARK  \\\n",
              "ATHLETE            Year                                                  \n",
              "Aaron BROWN        2016   1147        1147  3.0  2192.0  CANCAN  10.24   \n",
              "Abdul GHAFOOR      1996   2257        2257  8.0     NaN  AFGAFG   12.2   \n",
              "Abdul RASHID       2008    378         378  8.0     NaN  PAKPAK  14.52   \n",
              "Abdul Wahab ZAHIRI 2016   1068        1068  7.0  2000.0  AFGAFG  11.56   \n",
              "Abdullah AL-SOOLI  2008     44          44  5.0     NaN  OMAOMA  10.53   \n",
              "\n",
              "                         RxnTime     Race        Round Gender  \n",
              "ATHLETE            Year                                        \n",
              "Aaron BROWN        2016    0.135    100 m        Heats      M  \n",
              "Abdul GHAFOOR      1996      NaN    100 m        Heats      M  \n",
              "Abdul RASHID       2008    0.172  110 m H        Heats      M  \n",
              "Abdul Wahab ZAHIRI 2016    0.170    100 m  Preliminary      M  \n",
              "Abdullah AL-SOOLI  2008    0.153    100 m        Heats      M  "
            ]
          },
          "metadata": {
            "tags": []
          },
          "execution_count": 12
        }
      ]
    },
    {
      "metadata": {
        "id": "lB9ScmQB0k2h",
        "colab_type": "text"
      },
      "cell_type": "markdown",
      "source": [
        "11) Display the dataframe again by entering `df` on an empty line (e.g. in the code cell below, or create a new code cell).  Does it reflect the changes you made above?  If not, it's because `.set_index()`, `.sort_index()` (and most other methods) only return modified copies of your data; they don't overwrite it.  If you want to work with that modified copy, set the original dataframe equal to it, i.e. `df = ...` where `...` would contain the command you used above.  "
      ]
    },
    {
      "metadata": {
        "id": "8jIl7lx60k2j",
        "colab_type": "code",
        "colab": {}
      },
      "cell_type": "code",
      "source": [
        "# Fill in your answer to 11 here\n",
        "df = df.set_index(['ATHLETE','Year']).sort_index()"
      ],
      "execution_count": 0,
      "outputs": []
    },
    {
      "metadata": {
        "id": "Jg3jA4K50k2o",
        "colab_type": "text"
      },
      "cell_type": "markdown",
      "source": [
        "Now that `df` has been changed, some of the commands in the earlier questions won't work the same.  So you won't be able to access e.g. `df.loc[7]` anymore, because there is no longer a row named 7!  This is why you should always execute notebooks from top to bottom.  Each notebook cell can change the data in a way that a cell above it doesn't know about.  "
      ]
    },
    {
      "metadata": {
        "id": "Wa-Fd-M40k2q",
        "colab_type": "text"
      },
      "cell_type": "markdown",
      "source": [
        "12) But now we have an intuitive index for the data frame.  Instead of accessing something like `df.loc[7]` we can access by name and year (using the same `.loc` attribute).  First just try accessing Usain Bolt's data by name (note that his last name is all capital letters in this dataset).  Note that it will contain results from several races across several years.  "
      ]
    },
    {
      "metadata": {
        "id": "o3gfd22U0k2r",
        "colab_type": "code",
        "outputId": "3d4ff116-d120-4ec5-ec65-4497ddc0a891",
        "colab": {
          "base_uri": "https://localhost:8080/",
          "height": 390
        }
      },
      "cell_type": "code",
      "source": [
        "# Fill in your answer to 12 here\n",
        "df.loc['Usain BOLT']"
      ],
      "execution_count": 0,
      "outputs": [
        {
          "output_type": "execute_result",
          "data": {
            "text/html": [
              "<div>\n",
              "<style scoped>\n",
              "    .dataframe tbody tr th:only-of-type {\n",
              "        vertical-align: middle;\n",
              "    }\n",
              "\n",
              "    .dataframe tbody tr th {\n",
              "        vertical-align: top;\n",
              "    }\n",
              "\n",
              "    .dataframe thead th {\n",
              "        text-align: right;\n",
              "    }\n",
              "</style>\n",
              "<table border=\"1\" class=\"dataframe\">\n",
              "  <thead>\n",
              "    <tr style=\"text-align: right;\">\n",
              "      <th></th>\n",
              "      <th>index</th>\n",
              "      <th>Unnamed: 0</th>\n",
              "      <th>POS</th>\n",
              "      <th>BIB</th>\n",
              "      <th>COUNTRY</th>\n",
              "      <th>MARK</th>\n",
              "      <th>RxnTime</th>\n",
              "      <th>Race</th>\n",
              "      <th>Round</th>\n",
              "      <th>Gender</th>\n",
              "    </tr>\n",
              "    <tr>\n",
              "      <th>Year</th>\n",
              "      <th></th>\n",
              "      <th></th>\n",
              "      <th></th>\n",
              "      <th></th>\n",
              "      <th></th>\n",
              "      <th></th>\n",
              "      <th></th>\n",
              "      <th></th>\n",
              "      <th></th>\n",
              "      <th></th>\n",
              "    </tr>\n",
              "  </thead>\n",
              "  <tbody>\n",
              "    <tr>\n",
              "      <th>2008</th>\n",
              "      <td>0</td>\n",
              "      <td>0</td>\n",
              "      <td>1.0</td>\n",
              "      <td>NaN</td>\n",
              "      <td>JAMJAM</td>\n",
              "      <td>9.5</td>\n",
              "      <td>0.186</td>\n",
              "      <td>100 m</td>\n",
              "      <td>Heats</td>\n",
              "      <td>M</td>\n",
              "    </tr>\n",
              "    <tr>\n",
              "      <th>2008</th>\n",
              "      <td>104</td>\n",
              "      <td>104</td>\n",
              "      <td>1.0</td>\n",
              "      <td>NaN</td>\n",
              "      <td>JAMJAM</td>\n",
              "      <td>9.92 Q</td>\n",
              "      <td>0.165</td>\n",
              "      <td>100 m</td>\n",
              "      <td>Quarter</td>\n",
              "      <td>M</td>\n",
              "    </tr>\n",
              "    <tr>\n",
              "      <th>2008</th>\n",
              "      <td>120</td>\n",
              "      <td>120</td>\n",
              "      <td>1.0</td>\n",
              "      <td>NaN</td>\n",
              "      <td>JAMJAM</td>\n",
              "      <td>9.85 Q</td>\n",
              "      <td>0.161</td>\n",
              "      <td>100 m</td>\n",
              "      <td>Semi</td>\n",
              "      <td>M</td>\n",
              "    </tr>\n",
              "    <tr>\n",
              "      <th>2008</th>\n",
              "      <td>136</td>\n",
              "      <td>136</td>\n",
              "      <td>1.0</td>\n",
              "      <td>NaN</td>\n",
              "      <td>JAMJAM</td>\n",
              "      <td>9.69</td>\n",
              "      <td>0.165</td>\n",
              "      <td>100 m</td>\n",
              "      <td>Final</td>\n",
              "      <td>M</td>\n",
              "    </tr>\n",
              "    <tr>\n",
              "      <th>2012</th>\n",
              "      <td>630</td>\n",
              "      <td>630</td>\n",
              "      <td>1.0</td>\n",
              "      <td>2170.0</td>\n",
              "      <td>JAMJAM</td>\n",
              "      <td>10.09 Q</td>\n",
              "      <td>0.178</td>\n",
              "      <td>100 m</td>\n",
              "      <td>Heats</td>\n",
              "      <td>M</td>\n",
              "    </tr>\n",
              "    <tr>\n",
              "      <th>2012</th>\n",
              "      <td>670</td>\n",
              "      <td>670</td>\n",
              "      <td>1.0</td>\n",
              "      <td>2170.0</td>\n",
              "      <td>JAMJAM</td>\n",
              "      <td>9.87 Q</td>\n",
              "      <td>0.180</td>\n",
              "      <td>100 m</td>\n",
              "      <td>Semi</td>\n",
              "      <td>M</td>\n",
              "    </tr>\n",
              "    <tr>\n",
              "      <th>2012</th>\n",
              "      <td>686</td>\n",
              "      <td>686</td>\n",
              "      <td>1.0</td>\n",
              "      <td>2170.0</td>\n",
              "      <td>JAMJAM</td>\n",
              "      <td>9.63</td>\n",
              "      <td>0.165</td>\n",
              "      <td>100 m</td>\n",
              "      <td>Final</td>\n",
              "      <td>M</td>\n",
              "    </tr>\n",
              "    <tr>\n",
              "      <th>2016</th>\n",
              "      <td>1136</td>\n",
              "      <td>1136</td>\n",
              "      <td>1.0</td>\n",
              "      <td>2612.0</td>\n",
              "      <td>JAMJAM</td>\n",
              "      <td>10.07 Q</td>\n",
              "      <td>0.156</td>\n",
              "      <td>100 m</td>\n",
              "      <td>Heats</td>\n",
              "      <td>M</td>\n",
              "    </tr>\n",
              "    <tr>\n",
              "      <th>2016</th>\n",
              "      <td>1162</td>\n",
              "      <td>1162</td>\n",
              "      <td>1.0</td>\n",
              "      <td>2612.0</td>\n",
              "      <td>JAMJAM</td>\n",
              "      <td>9.86 Q</td>\n",
              "      <td>0.143</td>\n",
              "      <td>100 m</td>\n",
              "      <td>Semi</td>\n",
              "      <td>M</td>\n",
              "    </tr>\n",
              "    <tr>\n",
              "      <th>2016</th>\n",
              "      <td>1178</td>\n",
              "      <td>1178</td>\n",
              "      <td>1.0</td>\n",
              "      <td>2612.0</td>\n",
              "      <td>JAMJAM</td>\n",
              "      <td>9.81</td>\n",
              "      <td>0.155</td>\n",
              "      <td>100 m</td>\n",
              "      <td>Final</td>\n",
              "      <td>M</td>\n",
              "    </tr>\n",
              "  </tbody>\n",
              "</table>\n",
              "</div>"
            ],
            "text/plain": [
              "      index  Unnamed: 0  POS     BIB COUNTRY     MARK  RxnTime   Race  \\\n",
              "Year                                                                    \n",
              "2008      0           0  1.0     NaN  JAMJAM      9.5    0.186  100 m   \n",
              "2008    104         104  1.0     NaN  JAMJAM   9.92 Q    0.165  100 m   \n",
              "2008    120         120  1.0     NaN  JAMJAM   9.85 Q    0.161  100 m   \n",
              "2008    136         136  1.0     NaN  JAMJAM     9.69    0.165  100 m   \n",
              "2012    630         630  1.0  2170.0  JAMJAM  10.09 Q    0.178  100 m   \n",
              "2012    670         670  1.0  2170.0  JAMJAM   9.87 Q    0.180  100 m   \n",
              "2012    686         686  1.0  2170.0  JAMJAM     9.63    0.165  100 m   \n",
              "2016   1136        1136  1.0  2612.0  JAMJAM  10.07 Q    0.156  100 m   \n",
              "2016   1162        1162  1.0  2612.0  JAMJAM   9.86 Q    0.143  100 m   \n",
              "2016   1178        1178  1.0  2612.0  JAMJAM     9.81    0.155  100 m   \n",
              "\n",
              "        Round Gender  \n",
              "Year                  \n",
              "2008    Heats      M  \n",
              "2008  Quarter      M  \n",
              "2008     Semi      M  \n",
              "2008    Final      M  \n",
              "2012    Heats      M  \n",
              "2012     Semi      M  \n",
              "2012    Final      M  \n",
              "2016    Heats      M  \n",
              "2016     Semi      M  \n",
              "2016    Final      M  "
            ]
          },
          "metadata": {
            "tags": []
          },
          "execution_count": 14
        }
      ]
    },
    {
      "metadata": {
        "id": "eraqd5mt0k2v",
        "colab_type": "text"
      },
      "cell_type": "markdown",
      "source": [
        "13) You can further restrict the data to a single year by using the `.loc` attribute again (\"chaining\" operations together), and now including a specific year.  Access Usain Bolt's data for 2008.  Hint: it will look just like the answer above, but with an extra `.loc` appended on.  "
      ]
    },
    {
      "metadata": {
        "id": "p1yNwIDr0k2w",
        "colab_type": "code",
        "outputId": "3a086545-f77e-4cda-b088-b4264dcc643f",
        "colab": {
          "base_uri": "https://localhost:8080/",
          "height": 204
        }
      },
      "cell_type": "code",
      "source": [
        "# Fill in your answer to 13 here\n",
        "df.loc['Usain BOLT',2008]\n"
      ],
      "execution_count": 0,
      "outputs": [
        {
          "output_type": "execute_result",
          "data": {
            "text/html": [
              "<div>\n",
              "<style scoped>\n",
              "    .dataframe tbody tr th:only-of-type {\n",
              "        vertical-align: middle;\n",
              "    }\n",
              "\n",
              "    .dataframe tbody tr th {\n",
              "        vertical-align: top;\n",
              "    }\n",
              "\n",
              "    .dataframe thead th {\n",
              "        text-align: right;\n",
              "    }\n",
              "</style>\n",
              "<table border=\"1\" class=\"dataframe\">\n",
              "  <thead>\n",
              "    <tr style=\"text-align: right;\">\n",
              "      <th></th>\n",
              "      <th></th>\n",
              "      <th>index</th>\n",
              "      <th>Unnamed: 0</th>\n",
              "      <th>POS</th>\n",
              "      <th>BIB</th>\n",
              "      <th>COUNTRY</th>\n",
              "      <th>MARK</th>\n",
              "      <th>RxnTime</th>\n",
              "      <th>Race</th>\n",
              "      <th>Round</th>\n",
              "      <th>Gender</th>\n",
              "    </tr>\n",
              "    <tr>\n",
              "      <th>ATHLETE</th>\n",
              "      <th>Year</th>\n",
              "      <th></th>\n",
              "      <th></th>\n",
              "      <th></th>\n",
              "      <th></th>\n",
              "      <th></th>\n",
              "      <th></th>\n",
              "      <th></th>\n",
              "      <th></th>\n",
              "      <th></th>\n",
              "      <th></th>\n",
              "    </tr>\n",
              "  </thead>\n",
              "  <tbody>\n",
              "    <tr>\n",
              "      <th rowspan=\"4\" valign=\"top\">Usain BOLT</th>\n",
              "      <th>2008</th>\n",
              "      <td>0</td>\n",
              "      <td>0</td>\n",
              "      <td>1.0</td>\n",
              "      <td>NaN</td>\n",
              "      <td>JAMJAM</td>\n",
              "      <td>9.5</td>\n",
              "      <td>0.186</td>\n",
              "      <td>100 m</td>\n",
              "      <td>Heats</td>\n",
              "      <td>M</td>\n",
              "    </tr>\n",
              "    <tr>\n",
              "      <th>2008</th>\n",
              "      <td>104</td>\n",
              "      <td>104</td>\n",
              "      <td>1.0</td>\n",
              "      <td>NaN</td>\n",
              "      <td>JAMJAM</td>\n",
              "      <td>9.92 Q</td>\n",
              "      <td>0.165</td>\n",
              "      <td>100 m</td>\n",
              "      <td>Quarter</td>\n",
              "      <td>M</td>\n",
              "    </tr>\n",
              "    <tr>\n",
              "      <th>2008</th>\n",
              "      <td>120</td>\n",
              "      <td>120</td>\n",
              "      <td>1.0</td>\n",
              "      <td>NaN</td>\n",
              "      <td>JAMJAM</td>\n",
              "      <td>9.85 Q</td>\n",
              "      <td>0.161</td>\n",
              "      <td>100 m</td>\n",
              "      <td>Semi</td>\n",
              "      <td>M</td>\n",
              "    </tr>\n",
              "    <tr>\n",
              "      <th>2008</th>\n",
              "      <td>136</td>\n",
              "      <td>136</td>\n",
              "      <td>1.0</td>\n",
              "      <td>NaN</td>\n",
              "      <td>JAMJAM</td>\n",
              "      <td>9.69</td>\n",
              "      <td>0.165</td>\n",
              "      <td>100 m</td>\n",
              "      <td>Final</td>\n",
              "      <td>M</td>\n",
              "    </tr>\n",
              "  </tbody>\n",
              "</table>\n",
              "</div>"
            ],
            "text/plain": [
              "                 index  Unnamed: 0  POS  BIB COUNTRY    MARK  RxnTime   Race  \\\n",
              "ATHLETE    Year                                                                \n",
              "Usain BOLT 2008      0           0  1.0  NaN  JAMJAM     9.5    0.186  100 m   \n",
              "           2008    104         104  1.0  NaN  JAMJAM  9.92 Q    0.165  100 m   \n",
              "           2008    120         120  1.0  NaN  JAMJAM  9.85 Q    0.161  100 m   \n",
              "           2008    136         136  1.0  NaN  JAMJAM    9.69    0.165  100 m   \n",
              "\n",
              "                   Round Gender  \n",
              "ATHLETE    Year                  \n",
              "Usain BOLT 2008    Heats      M  \n",
              "           2008  Quarter      M  \n",
              "           2008     Semi      M  \n",
              "           2008    Final      M  "
            ]
          },
          "metadata": {
            "tags": []
          },
          "execution_count": 15
        }
      ]
    },
    {
      "metadata": {
        "id": "HqeD38lm0k21",
        "colab_type": "text"
      },
      "cell_type": "markdown",
      "source": [
        "14) How fast does Usain Bolt react to the starting gun?  Find his minimum Olympic sprint reaction time by acessing his data using `.loc`, accessing reaction time by column name, and then computing the minimum.  Hint: the *maximum* is obtained with the `.max()` method.  "
      ]
    },
    {
      "metadata": {
        "id": "gaOeoG3J0k22",
        "colab_type": "code",
        "outputId": "09f6ea98-ed44-468a-88b6-7c37dc755af7",
        "colab": {
          "base_uri": "https://localhost:8080/",
          "height": 34
        }
      },
      "cell_type": "code",
      "source": [
        "# Fill in your answer to 14 here\n",
        "df.loc['Usain BOLT', 'RxnTime'].min()"
      ],
      "execution_count": 0,
      "outputs": [
        {
          "output_type": "execute_result",
          "data": {
            "text/plain": [
              "0.14300000000000002"
            ]
          },
          "metadata": {
            "tags": []
          },
          "execution_count": 16
        }
      ]
    },
    {
      "metadata": {
        "id": "M7ACiM7w0k25",
        "colab_type": "text"
      },
      "cell_type": "markdown",
      "source": [
        "15) Usain Bolt was the fastest 100m sprinter of all time, but he didn't try his hardest until the finals of each meet (he didn't need to).  Let's extract only his data from the finals.  This takes only one step, but we'll do it in two to make the idea clear.  First, let's generate a series that tells us whether it is True or False that a given race was a final.  Just paste `df['Round'] == 'Final'` in the cell below.  You will see a series containig some `True` values and some `False` values (mostly the latter), reflecting rows containing data from finals vs. other rounds.  Note the ellipsis halfway down, which represents all the data (hundreds of rows) it isn't showing you to save space.  "
      ]
    },
    {
      "metadata": {
        "id": "5qbH1xBM0k27",
        "colab_type": "code",
        "outputId": "5689ff1a-353c-4eee-bf88-89ffe2705c54",
        "colab": {
          "base_uri": "https://localhost:8080/",
          "height": 173
        }
      },
      "cell_type": "code",
      "source": [
        "# Fill in your answer to 15 here\n",
        "df.loc['Usain BOLT'][df.loc['Usain BOLT']['Round'] == 'Final']"
      ],
      "execution_count": 0,
      "outputs": [
        {
          "output_type": "execute_result",
          "data": {
            "text/html": [
              "<div>\n",
              "<style scoped>\n",
              "    .dataframe tbody tr th:only-of-type {\n",
              "        vertical-align: middle;\n",
              "    }\n",
              "\n",
              "    .dataframe tbody tr th {\n",
              "        vertical-align: top;\n",
              "    }\n",
              "\n",
              "    .dataframe thead th {\n",
              "        text-align: right;\n",
              "    }\n",
              "</style>\n",
              "<table border=\"1\" class=\"dataframe\">\n",
              "  <thead>\n",
              "    <tr style=\"text-align: right;\">\n",
              "      <th></th>\n",
              "      <th>index</th>\n",
              "      <th>Unnamed: 0</th>\n",
              "      <th>POS</th>\n",
              "      <th>BIB</th>\n",
              "      <th>COUNTRY</th>\n",
              "      <th>MARK</th>\n",
              "      <th>RxnTime</th>\n",
              "      <th>Race</th>\n",
              "      <th>Round</th>\n",
              "      <th>Gender</th>\n",
              "    </tr>\n",
              "    <tr>\n",
              "      <th>Year</th>\n",
              "      <th></th>\n",
              "      <th></th>\n",
              "      <th></th>\n",
              "      <th></th>\n",
              "      <th></th>\n",
              "      <th></th>\n",
              "      <th></th>\n",
              "      <th></th>\n",
              "      <th></th>\n",
              "      <th></th>\n",
              "    </tr>\n",
              "  </thead>\n",
              "  <tbody>\n",
              "    <tr>\n",
              "      <th>2008</th>\n",
              "      <td>136</td>\n",
              "      <td>136</td>\n",
              "      <td>1.0</td>\n",
              "      <td>NaN</td>\n",
              "      <td>JAMJAM</td>\n",
              "      <td>9.69</td>\n",
              "      <td>0.165</td>\n",
              "      <td>100 m</td>\n",
              "      <td>Final</td>\n",
              "      <td>M</td>\n",
              "    </tr>\n",
              "    <tr>\n",
              "      <th>2012</th>\n",
              "      <td>686</td>\n",
              "      <td>686</td>\n",
              "      <td>1.0</td>\n",
              "      <td>2170.0</td>\n",
              "      <td>JAMJAM</td>\n",
              "      <td>9.63</td>\n",
              "      <td>0.165</td>\n",
              "      <td>100 m</td>\n",
              "      <td>Final</td>\n",
              "      <td>M</td>\n",
              "    </tr>\n",
              "    <tr>\n",
              "      <th>2016</th>\n",
              "      <td>1178</td>\n",
              "      <td>1178</td>\n",
              "      <td>1.0</td>\n",
              "      <td>2612.0</td>\n",
              "      <td>JAMJAM</td>\n",
              "      <td>9.81</td>\n",
              "      <td>0.155</td>\n",
              "      <td>100 m</td>\n",
              "      <td>Final</td>\n",
              "      <td>M</td>\n",
              "    </tr>\n",
              "  </tbody>\n",
              "</table>\n",
              "</div>"
            ],
            "text/plain": [
              "      index  Unnamed: 0  POS     BIB COUNTRY  MARK  RxnTime   Race  Round  \\\n",
              "Year                                                                        \n",
              "2008    136         136  1.0     NaN  JAMJAM  9.69    0.165  100 m  Final   \n",
              "2012    686         686  1.0  2170.0  JAMJAM  9.63    0.165  100 m  Final   \n",
              "2016   1178        1178  1.0  2612.0  JAMJAM  9.81    0.155  100 m  Final   \n",
              "\n",
              "     Gender  \n",
              "Year         \n",
              "2008      M  \n",
              "2012      M  \n",
              "2016      M  "
            ]
          },
          "metadata": {
            "tags": []
          },
          "execution_count": 17
        }
      ]
    },
    {
      "metadata": {
        "id": "vtu6LpA50k2-",
        "colab_type": "text"
      },
      "cell_type": "markdown",
      "source": [
        "16) The expression above can be used as a \"selector\", to select data from the dataframe which matches the desired condition (i.e. only 200 m races).  Place it inside brackets (i.e. inside `df[]`) to access only the 200 m races from the original data.  "
      ]
    },
    {
      "metadata": {
        "id": "ufKtnSoP0k2_",
        "colab_type": "code",
        "outputId": "f9551e87-24dd-41fb-ecc2-5a64f4e70b8a",
        "colab": {
          "base_uri": "https://localhost:8080/",
          "height": 235
        }
      },
      "cell_type": "code",
      "source": [
        "# Fill in your answer to 16 here\n",
        "df[df['Round']== 'Final'].head()"
      ],
      "execution_count": 0,
      "outputs": [
        {
          "output_type": "execute_result",
          "data": {
            "text/html": [
              "<div>\n",
              "<style scoped>\n",
              "    .dataframe tbody tr th:only-of-type {\n",
              "        vertical-align: middle;\n",
              "    }\n",
              "\n",
              "    .dataframe tbody tr th {\n",
              "        vertical-align: top;\n",
              "    }\n",
              "\n",
              "    .dataframe thead th {\n",
              "        text-align: right;\n",
              "    }\n",
              "</style>\n",
              "<table border=\"1\" class=\"dataframe\">\n",
              "  <thead>\n",
              "    <tr style=\"text-align: right;\">\n",
              "      <th></th>\n",
              "      <th></th>\n",
              "      <th>index</th>\n",
              "      <th>Unnamed: 0</th>\n",
              "      <th>POS</th>\n",
              "      <th>BIB</th>\n",
              "      <th>COUNTRY</th>\n",
              "      <th>MARK</th>\n",
              "      <th>RxnTime</th>\n",
              "      <th>Race</th>\n",
              "      <th>Round</th>\n",
              "      <th>Gender</th>\n",
              "    </tr>\n",
              "    <tr>\n",
              "      <th>ATHLETE</th>\n",
              "      <th>Year</th>\n",
              "      <th></th>\n",
              "      <th></th>\n",
              "      <th></th>\n",
              "      <th></th>\n",
              "      <th></th>\n",
              "      <th></th>\n",
              "      <th></th>\n",
              "      <th></th>\n",
              "      <th></th>\n",
              "      <th></th>\n",
              "    </tr>\n",
              "  </thead>\n",
              "  <tbody>\n",
              "    <tr>\n",
              "      <th>Akani SIMBINE</th>\n",
              "      <th>2016</th>\n",
              "      <td>1182</td>\n",
              "      <td>1182</td>\n",
              "      <td>5.0</td>\n",
              "      <td>2909.0</td>\n",
              "      <td>RSARSA</td>\n",
              "      <td>9.94</td>\n",
              "      <td>0.128</td>\n",
              "      <td>100 m</td>\n",
              "      <td>Final</td>\n",
              "      <td>M</td>\n",
              "    </tr>\n",
              "    <tr>\n",
              "      <th>Aleen BAILEY</th>\n",
              "      <th>2004</th>\n",
              "      <td>1374</td>\n",
              "      <td>1374</td>\n",
              "      <td>5.0</td>\n",
              "      <td>NaN</td>\n",
              "      <td>JAMJAM</td>\n",
              "      <td>11.05</td>\n",
              "      <td>0.208</td>\n",
              "      <td>100 m</td>\n",
              "      <td>Final</td>\n",
              "      <td>F</td>\n",
              "    </tr>\n",
              "    <tr>\n",
              "      <th>Aliuska LÓPEZ</th>\n",
              "      <th>2000</th>\n",
              "      <td>2181</td>\n",
              "      <td>2181</td>\n",
              "      <td>5.0</td>\n",
              "      <td>NaN</td>\n",
              "      <td>CUBCUB</td>\n",
              "      <td>12.83</td>\n",
              "      <td>0.179</td>\n",
              "      <td>100 m H</td>\n",
              "      <td>Final</td>\n",
              "      <td>F</td>\n",
              "    </tr>\n",
              "    <tr>\n",
              "      <th>Allen JOHNSON</th>\n",
              "      <th>2000</th>\n",
              "      <td>2094</td>\n",
              "      <td>2094</td>\n",
              "      <td>4.0</td>\n",
              "      <td>NaN</td>\n",
              "      <td>USAUSA</td>\n",
              "      <td>13.23</td>\n",
              "      <td>0.182</td>\n",
              "      <td>110 m H</td>\n",
              "      <td>Final</td>\n",
              "      <td>M</td>\n",
              "    </tr>\n",
              "    <tr>\n",
              "      <th>Allyson FELIX</th>\n",
              "      <th>2012</th>\n",
              "      <td>573</td>\n",
              "      <td>573</td>\n",
              "      <td>5.0</td>\n",
              "      <td>3287.0</td>\n",
              "      <td>USAUSA</td>\n",
              "      <td>10.89</td>\n",
              "      <td>0.176</td>\n",
              "      <td>100 m</td>\n",
              "      <td>Final</td>\n",
              "      <td>F</td>\n",
              "    </tr>\n",
              "  </tbody>\n",
              "</table>\n",
              "</div>"
            ],
            "text/plain": [
              "                    index  Unnamed: 0  POS     BIB COUNTRY   MARK  RxnTime  \\\n",
              "ATHLETE       Year                                                           \n",
              "Akani SIMBINE 2016   1182        1182  5.0  2909.0  RSARSA   9.94    0.128   \n",
              "Aleen BAILEY  2004   1374        1374  5.0     NaN  JAMJAM  11.05    0.208   \n",
              "Aliuska LÓPEZ 2000   2181        2181  5.0     NaN  CUBCUB  12.83    0.179   \n",
              "Allen JOHNSON 2000   2094        2094  4.0     NaN  USAUSA  13.23    0.182   \n",
              "Allyson FELIX 2012    573         573  5.0  3287.0  USAUSA  10.89    0.176   \n",
              "\n",
              "                       Race  Round Gender  \n",
              "ATHLETE       Year                         \n",
              "Akani SIMBINE 2016    100 m  Final      M  \n",
              "Aleen BAILEY  2004    100 m  Final      F  \n",
              "Aliuska LÓPEZ 2000  100 m H  Final      F  \n",
              "Allen JOHNSON 2000  110 m H  Final      M  \n",
              "Allyson FELIX 2012    100 m  Final      F  "
            ]
          },
          "metadata": {
            "tags": []
          },
          "execution_count": 18
        }
      ]
    },
    {
      "metadata": {
        "id": "sBtyjwtS0k3C",
        "colab_type": "text"
      },
      "cell_type": "markdown",
      "source": [
        "17) Now use the above, plus chaining with `.loc[]` and `max()` to find Usain Bolt's *worst* reaction time in an Olympics final.   "
      ]
    },
    {
      "metadata": {
        "id": "lk92p7t70k3E",
        "colab_type": "code",
        "outputId": "b5da98c3-25ec-4eb3-d446-ecd7f7facd10",
        "colab": {
          "base_uri": "https://localhost:8080/",
          "height": 34
        }
      },
      "cell_type": "code",
      "source": [
        "# Fill in your answer to 17 here\n",
        "df[df['Round']== 'Final'].loc['Usain BOLT','RxnTime'].max()"
      ],
      "execution_count": 0,
      "outputs": [
        {
          "output_type": "execute_result",
          "data": {
            "text/plain": [
              "0.165"
            ]
          },
          "metadata": {
            "tags": []
          },
          "execution_count": 19
        }
      ]
    },
    {
      "metadata": {
        "id": "3OSd0RPb0k3G",
        "colab_type": "text"
      },
      "cell_type": "markdown",
      "source": [
        "18) Let's clean up this data a little bit more.  See all the `NaN` values above?  Those correspond to missing data (NaN stands for \"Not a Number\").  We can get rid of rows that have missing data with the `.dropna()` method.  But some missing data is irrelevant to our analysis.  Who cares if the bib number is missing?  Select only those columns we care about (let's say reaction time, round, and gender) using the approach from question 6, and then use `dropna()` on that subset of the columns.  Chain that with `.shape` to see how many rows the remaining data has.  It should be less than the number of rows we started with (because we removed some rows), but still well more than 0!"
      ]
    },
    {
      "metadata": {
        "id": "4kk_GOXy0k3I",
        "colab_type": "code",
        "outputId": "a37f9a53-ba78-4437-e910-002f2660bee5",
        "colab": {
          "base_uri": "https://localhost:8080/",
          "height": 34
        }
      },
      "cell_type": "code",
      "source": [
        "# Fill in your answer to 18 here\n",
        "df[['RxnTime','Round','Gender']].dropna().shape\n"
      ],
      "execution_count": 0,
      "outputs": [
        {
          "output_type": "execute_result",
          "data": {
            "text/plain": [
              "(2123, 3)"
            ]
          },
          "metadata": {
            "tags": []
          },
          "execution_count": 20
        }
      ]
    },
    {
      "metadata": {
        "id": "usV5z71V0k3P",
        "colab_type": "text"
      },
      "cell_type": "markdown",
      "source": [
        "19) Do Americans sprinters react faster than Canadian sprinters?  No one would ever fund such a study, but you can answer that question right here for free!  Use the `.groupby()` method to aggregate sprinters by country `.groupby('COUNTRY')`, select the reaction time column, and chain it with `.mean()` to compare mean reaction time across countries.  You can further optionally append `[['USAUSA','CANCAN']]` to focus on only those two countries.  Why are all the country names doubled?  I think it is because the person who compiled this dataset likes to say, \"U-S-A!  U-S-A!\" and just repeated that for every country.  "
      ]
    },
    {
      "metadata": {
        "id": "iBGbHDb20k3P",
        "colab_type": "code",
        "outputId": "1174f1b3-65a8-4063-9781-b5d0498b1b1b",
        "colab": {
          "base_uri": "https://localhost:8080/",
          "height": 85
        }
      },
      "cell_type": "code",
      "source": [
        "# Fill in your answer to 19 here\n",
        "df.groupby('COUNTRY')['RxnTime'].mean()[['USAUSA','CANCAN']]"
      ],
      "execution_count": 0,
      "outputs": [
        {
          "output_type": "execute_result",
          "data": {
            "text/plain": [
              "COUNTRY\n",
              "USAUSA    0.170185\n",
              "CANCAN    0.159889\n",
              "Name: RxnTime, dtype: float64"
            ]
          },
          "metadata": {
            "tags": []
          },
          "execution_count": 21
        }
      ]
    },
    {
      "metadata": {
        "id": "Tnrx1JfB0k3Y",
        "colab_type": "code",
        "colab": {}
      },
      "cell_type": "code",
      "source": [
        "# Be sure to run this code cell!\n",
        "from scipy.stats import ttest_ind"
      ],
      "execution_count": 0,
      "outputs": []
    },
    {
      "metadata": {
        "id": "4cNX7_NH0k3b",
        "colab_type": "text"
      },
      "cell_type": "markdown",
      "source": [
        "20) So *do* Americans react faster (or slower) than Canadians? In the previous question we only computed the means.  What about the variability?  Let's assume for the moment that a t-test is a good way to compare the two groups.  Extract the two groups using the data using the selector approach from question 16, extract the reaction time from each, drop the missing values, and assigning one to the variable `usa` and the other to the variable `can`.  Don't use `groupby()` here.  Having loaded a t-test function (`ttest_ind` in the cell above), call that function using your selected groups (`ttest_ind(usa,can)`).  Note that you can have multiple command in a code cell, as long each one is on its own line.  "
      ]
    },
    {
      "metadata": {
        "id": "TUW4t6Rw0k3d",
        "colab_type": "code",
        "outputId": "fc0e993c-342d-43de-95d7-1feda6eff798",
        "colab": {
          "base_uri": "https://localhost:8080/",
          "height": 34
        }
      },
      "cell_type": "code",
      "source": [
        "# Fill in your answer to 20 here\n",
        "usa = df[df['COUNTRY'] == 'USAUSA'].dropna()\n",
        "can = df[df['COUNTRY'] == 'CANCAN'].dropna()\n",
        "usa = usa[['RxnTime']] #need the variable of reaction time\n",
        "can = can[['RxnTime']]\n",
        "ttest_ind(usa,can)"
      ],
      "execution_count": 0,
      "outputs": [
        {
          "output_type": "execute_result",
          "data": {
            "text/plain": [
              "Ttest_indResult(statistic=array([1.63462089]), pvalue=array([0.10582694]))"
            ]
          },
          "metadata": {
            "tags": []
          },
          "execution_count": 24
        }
      ]
    },
    {
      "metadata": {
        "id": "KXVBdcwd0k3g",
        "colab_type": "text"
      },
      "cell_type": "markdown",
      "source": [
        "21) Oh my, are we going to win a Nobel Prize for this discovery?  Or have we failed to control for something?  Maybe one country has more male vs female athletes, or more sprinters vs hurdlers.  Repeat the above, restricting the data to men (21a), then to women (21b), then to only 100 m sprinters (21c).  You can have multiple `==` expressions in your selector, but you should use parentheses to keep them separated e.g. `(df['COUNTRY']=='USA') && (df['Gender']=='F')`.  "
      ]
    },
    {
      "metadata": {
        "id": "PnqH3fru0k3h",
        "colab_type": "code",
        "outputId": "651d98b3-49d8-46b0-d5ee-b1b2ec323323",
        "colab": {
          "base_uri": "https://localhost:8080/",
          "height": 34
        }
      },
      "cell_type": "code",
      "source": [
        "# Fill in your answer to 21a here\n",
        "usa = df[(df['COUNTRY'] == 'USAUSA')&(df['Gender'] == 'M')].dropna()\n",
        "can = df[(df['COUNTRY'] == 'CANCAN')&(df['Gender'] == 'M')].dropna()\n",
        "usa = usa[['RxnTime']]\n",
        "can = can[['RxnTime']]\n",
        "ttest_ind(usa,can)\n"
      ],
      "execution_count": 0,
      "outputs": [
        {
          "output_type": "execute_result",
          "data": {
            "text/plain": [
              "Ttest_indResult(statistic=array([2.69381626]), pvalue=array([0.01045616]))"
            ]
          },
          "metadata": {
            "tags": []
          },
          "execution_count": 35
        }
      ]
    },
    {
      "metadata": {
        "id": "Ay5GlFbr0k3j",
        "colab_type": "code",
        "outputId": "b4a10d2e-cd31-48a9-e769-9c92013a4e97",
        "colab": {
          "base_uri": "https://localhost:8080/",
          "height": 34
        }
      },
      "cell_type": "code",
      "source": [
        "# Fill in your answer to 21b here\n",
        "usa = df[(df['COUNTRY'] == 'USAUSA')&(df['Gender'] == 'F')].dropna()\n",
        "can = df[(df['COUNTRY'] == 'CANCAN')&(df['Gender'] == 'F')].dropna()\n",
        "usa = usa[['RxnTime']]\n",
        "can = can[['RxnTime']]\n",
        "ttest_ind(usa,can)"
      ],
      "execution_count": 0,
      "outputs": [
        {
          "output_type": "execute_result",
          "data": {
            "text/plain": [
              "Ttest_indResult(statistic=array([-0.10997084]), pvalue=array([0.91292147]))"
            ]
          },
          "metadata": {
            "tags": []
          },
          "execution_count": 36
        }
      ]
    },
    {
      "metadata": {
        "id": "2TSy8fCY0k3m",
        "colab_type": "code",
        "outputId": "0336b392-1df4-461b-ced2-dbf600e01cad",
        "colab": {
          "base_uri": "https://localhost:8080/",
          "height": 34
        }
      },
      "cell_type": "code",
      "source": [
        "# Fill in your answer to 21c here\n",
        "usa = df[(df['COUNTRY'] == 'USAUSA')&(df['Race'] == '100 m')].dropna()\n",
        "can = df[(df['COUNTRY'] == 'CANCAN')&(df['Race'] == '100 m')].dropna()\n",
        "usa = usa[['RxnTime']]\n",
        "can = can[['RxnTime']]\n",
        "ttest_ind(usa,can)"
      ],
      "execution_count": 0,
      "outputs": [
        {
          "output_type": "execute_result",
          "data": {
            "text/plain": [
              "Ttest_indResult(statistic=array([2.82231839]), pvalue=array([0.00746589]))"
            ]
          },
          "metadata": {
            "tags": []
          },
          "execution_count": 37
        }
      ]
    },
    {
      "metadata": {
        "id": "CJ1AWpr90k3r",
        "colab_type": "text"
      },
      "cell_type": "markdown",
      "source": [
        "### Congratulations, you are now familiar with the basic of programmatic operations on structured data!"
      ]
    }
  ]
}